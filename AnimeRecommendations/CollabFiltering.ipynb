{
 "cells": [
  {
   "cell_type": "code",
   "execution_count": 46,
   "metadata": {},
   "outputs": [],
   "source": [
    "import pandas as pd\n",
    "import numpy as np\n",
    "import scipy.sparse as sparse\n",
    "from sklearn.metrics.pairwise import cosine_similarity\n",
    "from jikanpy import Jikan"
   ]
  },
  {
   "cell_type": "code",
   "execution_count": 47,
   "metadata": {},
   "outputs": [
    {
     "data": {
      "text/html": [
       "<div>\n",
       "<style scoped>\n",
       "    .dataframe tbody tr th:only-of-type {\n",
       "        vertical-align: middle;\n",
       "    }\n",
       "\n",
       "    .dataframe tbody tr th {\n",
       "        vertical-align: top;\n",
       "    }\n",
       "\n",
       "    .dataframe thead th {\n",
       "        text-align: right;\n",
       "    }\n",
       "</style>\n",
       "<table border=\"1\" class=\"dataframe\">\n",
       "  <thead>\n",
       "    <tr style=\"text-align: right;\">\n",
       "      <th></th>\n",
       "      <th>username</th>\n",
       "      <th>anime_id</th>\n",
       "      <th>my_score</th>\n",
       "    </tr>\n",
       "  </thead>\n",
       "  <tbody>\n",
       "    <tr>\n",
       "      <th>0</th>\n",
       "      <td>karthiga</td>\n",
       "      <td>21</td>\n",
       "      <td>9</td>\n",
       "    </tr>\n",
       "    <tr>\n",
       "      <th>1</th>\n",
       "      <td>karthiga</td>\n",
       "      <td>59</td>\n",
       "      <td>7</td>\n",
       "    </tr>\n",
       "    <tr>\n",
       "      <th>2</th>\n",
       "      <td>karthiga</td>\n",
       "      <td>74</td>\n",
       "      <td>7</td>\n",
       "    </tr>\n",
       "    <tr>\n",
       "      <th>3</th>\n",
       "      <td>karthiga</td>\n",
       "      <td>120</td>\n",
       "      <td>7</td>\n",
       "    </tr>\n",
       "    <tr>\n",
       "      <th>4</th>\n",
       "      <td>karthiga</td>\n",
       "      <td>178</td>\n",
       "      <td>7</td>\n",
       "    </tr>\n",
       "  </tbody>\n",
       "</table>\n",
       "</div>"
      ],
      "text/plain": [
       "   username  anime_id  my_score\n",
       "0  karthiga        21         9\n",
       "1  karthiga        59         7\n",
       "2  karthiga        74         7\n",
       "3  karthiga       120         7\n",
       "4  karthiga       178         7"
      ]
     },
     "execution_count": 47,
     "metadata": {},
     "output_type": "execute_result"
    }
   ],
   "source": [
    "animeScores = pd.read_csv('animelists_cleaned.csv', usecols = ['username', 'anime_id', 'my_score'])\n",
    "animeScores.head()"
   ]
  },
  {
   "cell_type": "code",
   "execution_count": 48,
   "metadata": {},
   "outputs": [],
   "source": [
    "nUsers = animeScores['username'].nunique()\n",
    "nAnime = animeScores['anime_id'].max()\n",
    "nCols = 31284030\n",
    "nFeatures = nUsers+nAnime"
   ]
  },
  {
   "cell_type": "code",
   "execution_count": 49,
   "metadata": {},
   "outputs": [
    {
     "name": "stdout",
     "output_type": "stream",
     "text": [
      "108709 37896\n"
     ]
    }
   ],
   "source": [
    "print (nUsers, nAnime)"
   ]
  },
  {
   "cell_type": "code",
   "execution_count": 53,
   "metadata": {},
   "outputs": [],
   "source": [
    "def createPivotSparse(pdDF):\n",
    "    d = {}\n",
    "    a = 0\n",
    "    X = sparse.lil_matrix((nUsers,nAnime)).astype('float32')\n",
    "    userId = 0\n",
    "    for x in pdDF.itertuples():\n",
    "        if i > 1000000: break\n",
    "        if x[1] not in d:\n",
    "            d[x[1]] = a\n",
    "            userId = a\n",
    "            a = a +1\n",
    "        else:\n",
    "            userId = d[x[1]]\n",
    "        X[userId, x[2]] = x[3]\n",
    "    return X\n",
    "        "
   ]
  },
  {
   "cell_type": "code",
   "execution_count": 54,
   "metadata": {},
   "outputs": [
    {
     "ename": "NameError",
     "evalue": "name 'i' is not defined",
     "output_type": "error",
     "traceback": [
      "\u001b[1;31m---------------------------------------------------------------------------\u001b[0m",
      "\u001b[1;31mNameError\u001b[0m                                 Traceback (most recent call last)",
      "\u001b[1;32m<ipython-input-54-41de3ecb5d1d>\u001b[0m in \u001b[0;36m<module>\u001b[1;34m()\u001b[0m\n\u001b[1;32m----> 1\u001b[1;33m \u001b[0mX\u001b[0m \u001b[1;33m=\u001b[0m \u001b[0msparse\u001b[0m\u001b[1;33m.\u001b[0m\u001b[0mcsr_matrix\u001b[0m\u001b[1;33m(\u001b[0m\u001b[0mcreatePivotSparse\u001b[0m\u001b[1;33m(\u001b[0m\u001b[0manimeScores\u001b[0m\u001b[1;33m)\u001b[0m\u001b[1;33m)\u001b[0m\u001b[1;33m\u001b[0m\u001b[0m\n\u001b[0m",
      "\u001b[1;32m<ipython-input-53-129f1c1c5b5f>\u001b[0m in \u001b[0;36mcreatePivotSparse\u001b[1;34m(pdDF)\u001b[0m\n\u001b[0;32m      5\u001b[0m     \u001b[0muserId\u001b[0m \u001b[1;33m=\u001b[0m \u001b[1;36m0\u001b[0m\u001b[1;33m\u001b[0m\u001b[0m\n\u001b[0;32m      6\u001b[0m     \u001b[1;32mfor\u001b[0m \u001b[0mx\u001b[0m \u001b[1;32min\u001b[0m \u001b[0mpdDF\u001b[0m\u001b[1;33m.\u001b[0m\u001b[0mitertuples\u001b[0m\u001b[1;33m(\u001b[0m\u001b[1;33m)\u001b[0m\u001b[1;33m:\u001b[0m\u001b[1;33m\u001b[0m\u001b[0m\n\u001b[1;32m----> 7\u001b[1;33m         \u001b[1;32mif\u001b[0m \u001b[0mi\u001b[0m \u001b[1;33m>\u001b[0m \u001b[1;36m1000000\u001b[0m\u001b[1;33m:\u001b[0m \u001b[1;32mbreak\u001b[0m\u001b[1;33m\u001b[0m\u001b[0m\n\u001b[0m\u001b[0;32m      8\u001b[0m         \u001b[1;32mif\u001b[0m \u001b[0mx\u001b[0m\u001b[1;33m[\u001b[0m\u001b[1;36m1\u001b[0m\u001b[1;33m]\u001b[0m \u001b[1;32mnot\u001b[0m \u001b[1;32min\u001b[0m \u001b[0md\u001b[0m\u001b[1;33m:\u001b[0m\u001b[1;33m\u001b[0m\u001b[0m\n\u001b[0;32m      9\u001b[0m             \u001b[0md\u001b[0m\u001b[1;33m[\u001b[0m\u001b[0mx\u001b[0m\u001b[1;33m[\u001b[0m\u001b[1;36m1\u001b[0m\u001b[1;33m]\u001b[0m\u001b[1;33m]\u001b[0m \u001b[1;33m=\u001b[0m \u001b[0ma\u001b[0m\u001b[1;33m\u001b[0m\u001b[0m\n",
      "\u001b[1;31mNameError\u001b[0m: name 'i' is not defined"
     ]
    }
   ],
   "source": [
    "X = sparse.csr_matrix(createPivotSparse(animeScores))"
   ]
  },
  {
   "cell_type": "code",
   "execution_count": null,
   "metadata": {},
   "outputs": [],
   "source": [
    "def scaleScores(X):\n",
    "    for i in range(nUsers):\n",
    "        nZ = X[i].nonzero()[1]\n",
    "        L = []\n",
    "        for j in nZ:\n",
    "            L.append(X[i,j])\n",
    "        m = np.mean(L)\n",
    "        s = np.std(L)\n",
    "        if s == 0: s = 1\n",
    "        for j in nZ:\n",
    "            X[i,j] = (X[i,j]-m)/s\n",
    "    return X"
   ]
  },
  {
   "cell_type": "code",
   "execution_count": null,
   "metadata": {},
   "outputs": [],
   "source": [
    "scaledX = scaleScores(X)"
   ]
  },
  {
   "cell_type": "code",
   "execution_count": null,
   "metadata": {},
   "outputs": [],
   "source": [
    "itemSim = cosine_similarity(scaledX.transpose(), dense_output = False)"
   ]
  },
  {
   "cell_type": "code",
   "execution_count": null,
   "metadata": {},
   "outputs": [],
   "source": [
    "def getUserMtrx(username):\n",
    "    jk = Jikan()\n",
    "    userList = jk.user(username = username, request = 'animelist')['anime']\n",
    "    numShows = len(userList)\n",
    "    userMtrx = sparse.lil_matrix((1,nAnime))\n",
    "    L = []\n",
    "    for show in userList:\n",
    "        L.append(show['score'])\n",
    "    m = np.mean(L)\n",
    "    s = np.std(L)\n",
    "    for show in userList:\n",
    "        userMtrx[0, show['mal_id']] = (show['score']-m)/s\n",
    "                \n",
    "    return sparse.csr_matrix(userMtrx)"
   ]
  },
  {
   "cell_type": "code",
   "execution_count": null,
   "metadata": {},
   "outputs": [],
   "source": [
    "me = getUserMtrx('dakness989')"
   ]
  },
  {
   "cell_type": "code",
   "execution_count": null,
   "metadata": {},
   "outputs": [],
   "source": [
    "mySim = cosine_similarity(scaledX, me, dense_output = False)"
   ]
  },
  {
   "cell_type": "code",
   "execution_count": null,
   "metadata": {},
   "outputs": [],
   "source": [
    "def mostSimilarUsers(X, n=5):\n",
    "    result = []\n",
    "    L = []\n",
    "    for i in range(n):\n",
    "        j = X.argmax()\n",
    "        result.append(j)\n",
    "        L.append((j, X[j,0]))\n",
    "        X[j,0] = -1\n",
    "        \n",
    "    for (i, k) in L:\n",
    "        X[i,0] = k\n",
    "    \n",
    "    return result"
   ]
  },
  {
   "cell_type": "code",
   "execution_count": null,
   "metadata": {},
   "outputs": [],
   "source": [
    "mySimilar = mostSimilarUsers(mySim)"
   ]
  },
  {
   "cell_type": "code",
   "execution_count": null,
   "metadata": {},
   "outputs": [],
   "source": [
    "def AnimeRecommend(users, X):\n",
    "    jk = Jikan()\n",
    "    L = []\n",
    "    for user in users:\n",
    "        L.append(X[user].argmax())\n",
    "        \n",
    "    result = []\n",
    "    for x in L:\n",
    "        \n",
    "        animeName = (jk.anime(x))['title_english']\n",
    "        if animeName not in result:\n",
    "            result.append(animeName)\n",
    "    return result"
   ]
  },
  {
   "cell_type": "code",
   "execution_count": null,
   "metadata": {},
   "outputs": [],
   "source": [
    "myAnime = AnimeRecommend(mySimilar, scaledX)\n",
    "print(myAnime)"
   ]
  },
  {
   "cell_type": "code",
   "execution_count": null,
   "metadata": {},
   "outputs": [],
   "source": [
    "def animeRecommendFull(username):\n",
    "    userList = getUserMtrx(username)\n",
    "    userSim = cosine_similarity(scaledX, userList, dense_output = False)\n",
    "    similarUsers = mostSimilarUsers(userSim)\n",
    "    return AnimeRecommend(similarUsers, scaledX)"
   ]
  },
  {
   "cell_type": "code",
   "execution_count": null,
   "metadata": {},
   "outputs": [],
   "source": [
    "print(animeRecommendFull('dakness989'))"
   ]
  },
  {
   "cell_type": "code",
   "execution_count": null,
   "metadata": {},
   "outputs": [],
   "source": []
  }
 ],
 "metadata": {
  "kernelspec": {
   "display_name": "Python 3",
   "language": "python",
   "name": "python3"
  },
  "language_info": {
   "codemirror_mode": {
    "name": "ipython",
    "version": 3
   },
   "file_extension": ".py",
   "mimetype": "text/x-python",
   "name": "python",
   "nbconvert_exporter": "python",
   "pygments_lexer": "ipython3",
   "version": "3.6.5"
  }
 },
 "nbformat": 4,
 "nbformat_minor": 2
}
